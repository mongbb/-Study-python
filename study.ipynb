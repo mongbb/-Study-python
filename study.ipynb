{
 "cells": [
  {
   "cell_type": "markdown",
   "metadata": {},
   "source": [
    "# #\t2798"
   ]
  },
  {
   "cell_type": "markdown",
   "metadata": {},
   "source": [
    "시간초과"
   ]
  },
  {
   "cell_type": "code",
   "execution_count": 63,
   "metadata": {},
   "outputs": [
    {
     "name": "stdout",
     "output_type": "stream",
     "text": [
      "21\n"
     ]
    }
   ],
   "source": [
    "N, M = map(int, input().split())\n",
    "value_li = list(map(int, input().split()))\n",
    "\n",
    "s = []\n",
    "sum_li = []\n",
    "visited = [False] * (N+1)\n",
    "\n",
    "def dfs():\n",
    "    if len(s) == 3:\n",
    "        if sum(s) <= M:\n",
    "            sum_li.append(sum(s))\n",
    "    for i in range(N):\n",
    "        if visited[i]:\n",
    "            continue\n",
    "        visited[i] = True\n",
    "        s.append(value_li[i])\n",
    "        dfs()\n",
    "        s.pop()\n",
    "        visited[i]=False\n",
    "        if max(sum_li) == M:\n",
    "            return M\n",
    "        \n",
    "a = dfs()\n",
    "if a:\n",
    "    print(a)\n",
    "else:\n",
    "    print(max(sum_li))"
   ]
  },
  {
   "cell_type": "markdown",
   "metadata": {},
   "source": [
    "통과"
   ]
  },
  {
   "cell_type": "code",
   "execution_count": 64,
   "metadata": {},
   "outputs": [
    {
     "name": "stdout",
     "output_type": "stream",
     "text": [
      "21\n"
     ]
    },
    {
     "data": {
      "text/plain": [
       "21"
      ]
     },
     "execution_count": 64,
     "metadata": {},
     "output_type": "execute_result"
    }
   ],
   "source": [
    "N, M = map(int, input().split())\n",
    "value_li = list(map(int, input().split()))\n",
    "\n",
    "def solutions():\n",
    "    sum_li=[]\n",
    "    for i in range(len(value_li)):\n",
    "        for j in range(len(value_li)):\n",
    "            if i == j:\n",
    "                continue\n",
    "            for k in range(len(value_li)):\n",
    "                if (k == j) or (k == i):\n",
    "                    continue\n",
    "                if sum([value_li[i],value_li[j],value_li[k]])==M:\n",
    "                    print(M)\n",
    "                    return M\n",
    "                elif sum([value_li[i],value_li[j],value_li[k]])<=M:\n",
    "                    sum_li.append(sum([value_li[i],value_li[j],value_li[k]]))\n",
    "\n",
    "    print(max(sum_li))\n",
    "    return max(sum_li)\n",
    "\n",
    "solutions()"
   ]
  },
  {
   "cell_type": "markdown",
   "metadata": {},
   "source": [
    "# #2231"
   ]
  },
  {
   "cell_type": "code",
   "execution_count": 9,
   "metadata": {},
   "outputs": [
    {
     "name": "stdout",
     "output_type": "stream",
     "text": [
      "0\n"
     ]
    }
   ],
   "source": [
    "input_value = input()\n",
    "\n",
    "answer = 0\n",
    "for i in range(1, int(input_value)+1):\n",
    "    tmp = list(map(int, str(i)))\n",
    "    if (i + sum(tmp)) == int(input_value):\n",
    "        answer = i\n",
    "        break\n",
    "\n",
    "print(answer)"
   ]
  }
 ],
 "metadata": {
  "kernelspec": {
   "display_name": "Python 3",
   "language": "python",
   "name": "python3"
  },
  "language_info": {
   "codemirror_mode": {
    "name": "ipython",
    "version": 3
   },
   "file_extension": ".py",
   "mimetype": "text/x-python",
   "name": "python",
   "nbconvert_exporter": "python",
   "pygments_lexer": "ipython3",
   "version": "3.9.13"
  }
 },
 "nbformat": 4,
 "nbformat_minor": 2
}
