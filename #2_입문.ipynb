{
 "cells": [
  {
   "attachments": {},
   "cell_type": "markdown",
   "metadata": {},
   "source": [
    "# 소수 찾기"
   ]
  },
  {
   "attachments": {},
   "cell_type": "markdown",
   "metadata": {},
   "source": [
    "### 나의 풀이\n",
    "- itertools.combinations() 함수는 입력받은 배열의 경우의 수를 찾는 함수\n",
    "- combinations는 순열과 조합에서 조합을 뜻하는 것으로 순서를 중요시하지 않는 것이 특징\n",
    "- [1, 2, 3, 4] 배열에서 [1, 2, 3], [1, 3, 2], [2, 1, 3], [2, 3, 1], [3, 1, 2], [3, 2, 1] 등의 결과는 모두 같은 것으로 취급\n",
    "- 출처 : https://ittrue.tistory.com/57"
   ]
  },
  {
   "cell_type": "code",
   "execution_count": 2,
   "metadata": {},
   "outputs": [],
   "source": [
    "import itertools\n",
    "\n",
    "def solution(nums):\n",
    "    answer=0\n",
    "    total = 0\n",
    "    for i in itertools.combinations(nums, 3):\n",
    "        total+=1\n",
    "        for j in range(2, sum(i)):\n",
    "            if sum(i) % j == 0:\n",
    "                answer+=1\n",
    "                break\n",
    "    return (total-answer)"
   ]
  },
  {
   "attachments": {},
   "cell_type": "markdown",
   "metadata": {},
   "source": [
    "# 점의 위치 구하기"
   ]
  },
  {
   "attachments": {},
   "cell_type": "markdown",
   "metadata": {},
   "source": [
    "### 나의 풀이"
   ]
  },
  {
   "cell_type": "code",
   "execution_count": null,
   "metadata": {},
   "outputs": [],
   "source": [
    "def solution(dot):\n",
    "    if (dot[0]>0) and (dot[1]>0):\n",
    "        return 1\n",
    "    elif (dot[0]<0) and (dot[1]>0):\n",
    "        return 2\n",
    "    elif (dot[0]<0) and (dot[1]<0):\n",
    "        return 3\n",
    "    elif (dot[0]>0) and (dot[1]<0):\n",
    "        return 4"
   ]
  },
  {
   "attachments": {},
   "cell_type": "markdown",
   "metadata": {},
   "source": [
    "### 참고 풀이"
   ]
  },
  {
   "cell_type": "code",
   "execution_count": 14,
   "metadata": {},
   "outputs": [],
   "source": [
    "def solution(dot):\n",
    "    quad = [(3,2),(4,1)]\n",
    "    return quad[dot[0] > 0][dot[1] > 0]"
   ]
  },
  {
   "attachments": {},
   "cell_type": "markdown",
   "metadata": {},
   "source": [
    "# 자연수 뒤집어 배열로 만들기"
   ]
  },
  {
   "attachments": {},
   "cell_type": "markdown",
   "metadata": {},
   "source": [
    "### 나의 풀이"
   ]
  },
  {
   "cell_type": "code",
   "execution_count": 16,
   "metadata": {},
   "outputs": [],
   "source": [
    "def solution(n):\n",
    "    answer=[]\n",
    "    for i in range(len(str(n)), 0, -1):\n",
    "        answer.append(int(list(str(n))[i-1]))\n",
    "    return(answer)"
   ]
  },
  {
   "attachments": {},
   "cell_type": "markdown",
   "metadata": {},
   "source": [
    "### 참고 풀이\n",
    "- map(function, iterable) : 첫 번째 매개변수로는 함수, 두 번째 매개변수로는 반복 가능한 자료형(리스트, 튜플 등)"
   ]
  },
  {
   "cell_type": "code",
   "execution_count": 17,
   "metadata": {},
   "outputs": [],
   "source": [
    "def digit_reverse(n):\n",
    "    return list(map(int, reversed(str(n))))"
   ]
  },
  {
   "cell_type": "code",
   "execution_count": 22,
   "metadata": {},
   "outputs": [
    {
     "data": {
      "text/plain": [
       "[2.0, 1.0]"
      ]
     },
     "execution_count": 22,
     "metadata": {},
     "output_type": "execute_result"
    }
   ],
   "source": [
    "list(map(float, reversed(str(12))))"
   ]
  },
  {
   "cell_type": "code",
   "execution_count": null,
   "metadata": {},
   "outputs": [],
   "source": []
  }
 ],
 "metadata": {
  "kernelspec": {
   "display_name": "Python 3",
   "language": "python",
   "name": "python3"
  },
  "language_info": {
   "codemirror_mode": {
    "name": "ipython",
    "version": 3
   },
   "file_extension": ".py",
   "mimetype": "text/x-python",
   "name": "python",
   "nbconvert_exporter": "python",
   "pygments_lexer": "ipython3",
   "version": "3.10.10"
  },
  "orig_nbformat": 4
 },
 "nbformat": 4,
 "nbformat_minor": 2
}
