{
 "cells": [
  {
   "cell_type": "markdown",
   "metadata": {},
   "source": [
    "# #19532"
   ]
  },
  {
   "cell_type": "code",
   "execution_count": 1,
   "metadata": {},
   "outputs": [],
   "source": [
    "input_li = \"1 3 -1 4 1 7\""
   ]
  },
  {
   "cell_type": "code",
   "execution_count": 2,
   "metadata": {},
   "outputs": [
    {
     "data": {
      "text/plain": [
       "(1, 3, -1, 4, 1, 7)"
      ]
     },
     "execution_count": 2,
     "metadata": {},
     "output_type": "execute_result"
    }
   ],
   "source": [
    "a, b, c, d, e, f = (map(int, input_li.split()))\n",
    "\n",
    "a, b, c, d, e, f"
   ]
  },
  {
   "cell_type": "code",
   "execution_count": null,
   "metadata": {},
   "outputs": [],
   "source": [
    "y == (c-(a*x))/b\n",
    "(d*x) + e*((c-(a*x))/b) == f"
   ]
  },
  {
   "cell_type": "code",
   "execution_count": null,
   "metadata": {},
   "outputs": [],
   "source": [
    "y = (f - (d*x))/e\n",
    "(a*x) + b*((f - (d*x))/e) == c"
   ]
  },
  {
   "cell_type": "code",
   "execution_count": null,
   "metadata": {},
   "outputs": [],
   "source": [
    "x= (c-(b*y))/a\n",
    "d*((c-(b*y))/a) + (e*y) == f"
   ]
  },
  {
   "cell_type": "code",
   "execution_count": null,
   "metadata": {},
   "outputs": [],
   "source": [
    "x = (f-(e*y))/d\n",
    "a*((f-(e*y))/d) + (b*y) = c"
   ]
  },
  {
   "cell_type": "markdown",
   "metadata": {},
   "source": [
    "시간초과"
   ]
  },
  {
   "cell_type": "code",
   "execution_count": 27,
   "metadata": {},
   "outputs": [
    {
     "name": "stdout",
     "output_type": "stream",
     "text": [
      "y\n"
     ]
    }
   ],
   "source": [
    "check = 0\n",
    "for x in range(-999, 999+1):\n",
    "    if (d*x) + e*((c-(a*x))/b) == f:\n",
    "        check = 'x'\n",
    "        break\n",
    "    if (a*x) + b*((f - (d*x))/e) == c:\n",
    "        check = 'x'\n",
    "        break\n",
    "    y = x\n",
    "    if d*((c-(b*y))/a) + (e*y) == f:\n",
    "        check = 'y'\n",
    "        break\n",
    "    if a*((f-(e*y))/d) + (b*y) == c:\n",
    "        check = 'y'\n",
    "        break\n",
    "\n",
    "if check == 'x':\n",
    "    y = (c-(a*x))/b\n",
    "if check == 'y':\n",
    "    x= (c-(b*y))/a"
   ]
  },
  {
   "cell_type": "code",
   "execution_count": 4,
   "metadata": {},
   "outputs": [
    {
     "name": "stdout",
     "output_type": "stream",
     "text": [
      "2 -1\n"
     ]
    }
   ],
   "source": [
    "print(int(x), int(y))"
   ]
  },
  {
   "cell_type": "markdown",
   "metadata": {},
   "source": [
    "통과"
   ]
  },
  {
   "cell_type": "code",
   "execution_count": 5,
   "metadata": {},
   "outputs": [
    {
     "name": "stdout",
     "output_type": "stream",
     "text": [
      "2 -1\n"
     ]
    }
   ],
   "source": [
    "for x in range(-999, 1000):\n",
    "    for y in range(-999, 1000):\n",
    "        if ((a*x)+(b*y)==c) and ((d*x)+(e*y)==f):\n",
    "            print(int(x), int(y))"
   ]
  },
  {
   "cell_type": "markdown",
   "metadata": {},
   "source": [
    "# #1018"
   ]
  },
  {
   "cell_type": "markdown",
   "metadata": {},
   "source": [
    "\n",
    "- 어렵다,,"
   ]
  },
  {
   "cell_type": "code",
   "execution_count": 7,
   "metadata": {},
   "outputs": [],
   "source": [
    "input_value = '10 13'\n",
    "input_total = ['BBBBBBBBWBWBW', 'BBBBBBBBBWBWB', 'BBBBBBBBWBWBW', 'BBBBBBBBBWBWB',\n",
    "               'BBBBBBBBWBWBW', 'BBBBBBBBBWBWB', 'BBBBBBBBWBWBW', 'BBBBBBBBBWBWB',\n",
    "               'WWWWWWWWWWBWB', 'WWWWWWWWWWBWB']"
   ]
  },
  {
   "cell_type": "code",
   "execution_count": 8,
   "metadata": {},
   "outputs": [],
   "source": [
    "N, M = map(int, input_value.split())"
   ]
  },
  {
   "cell_type": "code",
   "execution_count": 3,
   "metadata": {},
   "outputs": [],
   "source": [
    "N, M = map(int, input().split())\n",
    "input_total = []\n",
    "for _ in range(N):\n",
    "    input_total.append(input())\n"
   ]
  },
  {
   "cell_type": "markdown",
   "metadata": {},
   "source": [
    "오류나는 개인적인 코드"
   ]
  },
  {
   "cell_type": "code",
   "execution_count": null,
   "metadata": {},
   "outputs": [],
   "source": [
    "total = []\n",
    "for n in range((N-8)+1):\n",
    "    for m in range(M-7):\n",
    "        change = 0\n",
    "        check = 0\n",
    "        print(\"*****\",m)\n",
    "        for i in input_total[n: n+8]:\n",
    "            print(i[m: m+8])\n",
    "            num=0\n",
    "            for j in i[m: m+8]:\n",
    "                print(check, j, change, num)\n",
    "                if (num == 0) and (check != 0) and (check != j):\n",
    "                    change +=1\n",
    "                    num+=1\n",
    "                    continue\n",
    "                if check == 'W' and j == 'W':\n",
    "                    check = 'B'\n",
    "                    change+=1\n",
    "                    continue\n",
    "                if check == 'B' and j == 'B':\n",
    "                    check = 'W'\n",
    "                    change+=1\n",
    "                    continue\n",
    "                check = j\n",
    "                num+=1\n",
    "                \n",
    "            print(change)\n",
    "\n",
    "        total.append(change)\n",
    "\n",
    "print(min(total))"
   ]
  },
  {
   "cell_type": "markdown",
   "metadata": {},
   "source": [
    "참고 : https://kevinitcoding.tistory.com/entry/%EB%B0%B1%EC%A4%80Python-1018%EB%B2%88-%EC%B2%B4%EC%8A%A4%ED%8C%90-%EB%8B%A4%EC%8B%9C-%EC%B9%A0%ED%95%98%EA%B8%B0-%EB%AC%B8%EC%A0%9C\n",
    "\n",
    "-> 첫 바둑이 검은색이면, 다음은 하얀색 "
   ]
  },
  {
   "cell_type": "code",
   "execution_count": 13,
   "metadata": {},
   "outputs": [
    {
     "name": "stdout",
     "output_type": "stream",
     "text": [
      "12\n"
     ]
    }
   ],
   "source": [
    "total=[]\n",
    "for n in range(N-7):\n",
    "    for m in range(M-7):\n",
    "        white_count = 0\n",
    "        black_count = 0\n",
    "        for i in range(n, n+8):\n",
    "            for j in range(m, m+8):\n",
    "                if (i+j) %2 == 0:\n",
    "                    if input_total[i][j] != 'W':\n",
    "                        white_count += 1\n",
    "                    else:\n",
    "                        black_count+=1\n",
    "                else:\n",
    "                    if input_total[i][j] != 'B':\n",
    "                        white_count += 1\n",
    "                    else:\n",
    "                        black_count+=1\n",
    "        total.append(white_count)\n",
    "        total.append(black_count)\n",
    "\n",
    "print(min(total))"
   ]
  },
  {
   "cell_type": "code",
   "execution_count": 12,
   "metadata": {},
   "outputs": [
    {
     "data": {
      "text/plain": [
       "12"
      ]
     },
     "execution_count": 12,
     "metadata": {},
     "output_type": "execute_result"
    }
   ],
   "source": [
    "min(total)"
   ]
  },
  {
   "cell_type": "code",
   "execution_count": null,
   "metadata": {},
   "outputs": [],
   "source": [
    "WBWBWBWB"
   ]
  },
  {
   "cell_type": "code",
   "execution_count": null,
   "metadata": {},
   "outputs": [],
   "source": []
  },
  {
   "cell_type": "code",
   "execution_count": null,
   "metadata": {},
   "outputs": [],
   "source": []
  },
  {
   "cell_type": "code",
   "execution_count": null,
   "metadata": {},
   "outputs": [],
   "source": []
  },
  {
   "cell_type": "code",
   "execution_count": null,
   "metadata": {},
   "outputs": [],
   "source": []
  },
  {
   "cell_type": "code",
   "execution_count": null,
   "metadata": {},
   "outputs": [],
   "source": []
  }
 ],
 "metadata": {
  "kernelspec": {
   "display_name": "Python 3",
   "language": "python",
   "name": "python3"
  },
  "language_info": {
   "codemirror_mode": {
    "name": "ipython",
    "version": 3
   },
   "file_extension": ".py",
   "mimetype": "text/x-python",
   "name": "python",
   "nbconvert_exporter": "python",
   "pygments_lexer": "ipython3",
   "version": "3.9.13"
  }
 },
 "nbformat": 4,
 "nbformat_minor": 2
}
