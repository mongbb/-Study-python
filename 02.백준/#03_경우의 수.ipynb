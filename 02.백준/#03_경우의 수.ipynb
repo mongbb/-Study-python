{
 "cells": [
  {
   "cell_type": "markdown",
   "metadata": {},
   "source": [
    "# #2798"
   ]
  },
  {
   "cell_type": "code",
   "execution_count": 27,
   "metadata": {},
   "outputs": [],
   "source": [
    "n = 5\n",
    "m = 21\n",
    "num = [5, 6, 7, 8, 9]"
   ]
  },
  {
   "cell_type": "code",
   "execution_count": 28,
   "metadata": {},
   "outputs": [
    {
     "data": {
      "text/plain": [
       "[9, 8, 7, 6, 5]"
      ]
     },
     "execution_count": 28,
     "metadata": {},
     "output_type": "execute_result"
    }
   ],
   "source": [
    "sorted(num, reverse=True)"
   ]
  },
  {
   "cell_type": "code",
   "execution_count": 29,
   "metadata": {},
   "outputs": [],
   "source": [
    "s = []\n",
    "visited = [False] * n\n",
    "def dfs():\n",
    "    sum_li = []\n",
    "    if len(s) == 3:\n",
    "        if sum(s) <= m:\n",
    "            sum_li.append(sum(s))\n",
    "            return\n",
    "    for i in range(n):\n",
    "        if visited[i]:\n",
    "            continue\n",
    "        visited[i] = True\n",
    "        s.append(num[i])\n",
    "        dfs()\n",
    "        s.pop()\n",
    "        visited[i] = False"
   ]
  },
  {
   "cell_type": "code",
   "execution_count": 30,
   "metadata": {},
   "outputs": [
    {
     "name": "stdout",
     "output_type": "stream",
     "text": [
      "[]\n"
     ]
    },
    {
     "ename": "ValueError",
     "evalue": "max() arg is an empty sequence",
     "output_type": "error",
     "traceback": [
      "\u001b[1;31m---------------------------------------------------------------------------\u001b[0m",
      "\u001b[1;31mValueError\u001b[0m                                Traceback (most recent call last)",
      "Cell \u001b[1;32mIn[30], line 1\u001b[0m\n\u001b[1;32m----> 1\u001b[0m dfs()\n",
      "Cell \u001b[1;32mIn[29], line 14\u001b[0m, in \u001b[0;36mdfs\u001b[1;34m()\u001b[0m\n\u001b[0;32m     12\u001b[0m visited[i] \u001b[39m=\u001b[39m \u001b[39mTrue\u001b[39;00m\n\u001b[0;32m     13\u001b[0m s\u001b[39m.\u001b[39mappend(num[i])\n\u001b[1;32m---> 14\u001b[0m dfs()\n\u001b[0;32m     15\u001b[0m s\u001b[39m.\u001b[39mpop()\n\u001b[0;32m     16\u001b[0m visited[i] \u001b[39m=\u001b[39m \u001b[39mFalse\u001b[39;00m\n",
      "Cell \u001b[1;32mIn[29], line 14\u001b[0m, in \u001b[0;36mdfs\u001b[1;34m()\u001b[0m\n\u001b[0;32m     12\u001b[0m visited[i] \u001b[39m=\u001b[39m \u001b[39mTrue\u001b[39;00m\n\u001b[0;32m     13\u001b[0m s\u001b[39m.\u001b[39mappend(num[i])\n\u001b[1;32m---> 14\u001b[0m dfs()\n\u001b[0;32m     15\u001b[0m s\u001b[39m.\u001b[39mpop()\n\u001b[0;32m     16\u001b[0m visited[i] \u001b[39m=\u001b[39m \u001b[39mFalse\u001b[39;00m\n",
      "Cell \u001b[1;32mIn[29], line 19\u001b[0m, in \u001b[0;36mdfs\u001b[1;34m()\u001b[0m\n\u001b[0;32m     16\u001b[0m     visited[i] \u001b[39m=\u001b[39m \u001b[39mFalse\u001b[39;00m\n\u001b[0;32m     18\u001b[0m \u001b[39mprint\u001b[39m(sum_li)\n\u001b[1;32m---> 19\u001b[0m \u001b[39mreturn\u001b[39;00m \u001b[39mmax\u001b[39;49m(sum_li)\n",
      "\u001b[1;31mValueError\u001b[0m: max() arg is an empty sequence"
     ]
    }
   ],
   "source": [
    "dfs()"
   ]
  },
  {
   "cell_type": "code",
   "execution_count": null,
   "metadata": {},
   "outputs": [],
   "source": []
  }
 ],
 "metadata": {
  "kernelspec": {
   "display_name": "Python 3",
   "language": "python",
   "name": "python3"
  },
  "language_info": {
   "codemirror_mode": {
    "name": "ipython",
    "version": 3
   },
   "file_extension": ".py",
   "mimetype": "text/x-python",
   "name": "python",
   "nbconvert_exporter": "python",
   "pygments_lexer": "ipython3",
   "version": "3.10.10"
  }
 },
 "nbformat": 4,
 "nbformat_minor": 2
}
