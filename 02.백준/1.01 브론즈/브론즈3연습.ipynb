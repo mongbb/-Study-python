{
 "cells": [
  {
   "cell_type": "markdown",
   "metadata": {},
   "source": [
    "## #2884\n",
    "https://www.acmicpc.net/problem/2884"
   ]
  },
  {
   "cell_type": "code",
   "execution_count": null,
   "metadata": {},
   "outputs": [],
   "source": [
    "input_value = input()\n",
    "def solution():\n",
    "    h, m = map(int, input_value.split())\n",
    "\n",
    "    if m >= 45 : return \"{} {}\".format(h, m-45)\n",
    "    else: return \"{} {}\".format(((h-1)+24)%24, (m-45)+60)\n",
    "\n",
    "\n",
    "print(solution())"
   ]
  },
  {
   "cell_type": "markdown",
   "metadata": {},
   "source": [
    "## #2525\n",
    "https://www.acmicpc.net/problem/2525"
   ]
  },
  {
   "cell_type": "code",
   "execution_count": 32,
   "metadata": {},
   "outputs": [
    {
     "name": "stdout",
     "output_type": "stream",
     "text": [
      "16 0\n"
     ]
    }
   ],
   "source": [
    "input_value = input()\n",
    "def solution():\n",
    "    h, m = map(int, input_value.split())\n",
    "    need = int(input())\n",
    "\n",
    "    if (m+(need%60)) >= 60: return \"{} {}\".format(((h+(need//60)+1)%24), (m+(need%60))%60)\n",
    "    return \"{} {}\".format(((h+(need//60))%24), (m+(need%60))%60)\n",
    "\n",
    "\n",
    "print(solution())"
   ]
  },
  {
   "cell_type": "markdown",
   "metadata": {},
   "source": [
    "## #2588\n",
    "https://www.acmicpc.net/problem/2588"
   ]
  },
  {
   "cell_type": "code",
   "execution_count": 2,
   "metadata": {},
   "outputs": [
    {
     "name": "stdout",
     "output_type": "stream",
     "text": [
      "2360\n",
      "3776\n",
      "1416\n",
      "181720\n"
     ]
    }
   ],
   "source": [
    "A = int(input())\n",
    "B = input()\n",
    "\n",
    "for i in reversed(B):\n",
    "    print(A*int(i))\n",
    "\n",
    "print(A*int(B))"
   ]
  },
  {
   "cell_type": "markdown",
   "metadata": {},
   "source": [
    "## #10818\n",
    "https://www.acmicpc.net/problem/10818"
   ]
  },
  {
   "cell_type": "code",
   "execution_count": 3,
   "metadata": {},
   "outputs": [
    {
     "name": "stdout",
     "output_type": "stream",
     "text": [
      "1 3\n"
     ]
    }
   ],
   "source": [
    "input_count = input()\n",
    "input_value = list(map(int, input().split()))\n",
    "\n",
    "print(min(input_value), max(input_value))"
   ]
  },
  {
   "cell_type": "markdown",
   "metadata": {},
   "source": [
    "## #2562\n",
    "https://www.acmicpc.net/problem/2562"
   ]
  },
  {
   "cell_type": "markdown",
   "metadata": {},
   "source": [
    "9개의 서로 다른 자연수가 주어질 때, 이들 중 최댓값을 찾고 그 최댓값이 몇 번째 수인지를 구하는 프로그램을 작성하시오.\n",
    "\n",
    "예를 들어, 서로 다른 9개의 자연수\n",
    "\n",
    "3, 29, 38, 12, 57, 74, 40, 85, 61\n",
    "\n",
    "이 주어지면, 이들 중 최댓값은 85이고, 이 값은 8번째 수이다."
   ]
  },
  {
   "cell_type": "code",
   "execution_count": null,
   "metadata": {},
   "outputs": [],
   "source": [
    "li = []\n",
    "for _ in range(9):\n",
    "    li.append(int(input()))\n",
    "\n",
    "print(max(li), li.index(max(li))+1)"
   ]
  },
  {
   "cell_type": "code",
   "execution_count": 4,
   "metadata": {},
   "outputs": [],
   "source": [
    "li = [3,\n",
    "29,\n",
    "38,\n",
    "12,\n",
    "57,\n",
    "74,\n",
    "40,\n",
    "85,\n",
    "61]"
   ]
  },
  {
   "cell_type": "code",
   "execution_count": 7,
   "metadata": {},
   "outputs": [
    {
     "name": "stdout",
     "output_type": "stream",
     "text": [
      "85 8\n"
     ]
    }
   ],
   "source": [
    "print(max(li), li.index(max(li))+1)"
   ]
  },
  {
   "cell_type": "code",
   "execution_count": 24,
   "metadata": {},
   "outputs": [
    {
     "data": {
      "text/plain": [
       "20"
      ]
     },
     "execution_count": 24,
     "metadata": {},
     "output_type": "execute_result"
    }
   ],
   "source": [
    "200 % 60"
   ]
  },
  {
   "cell_type": "code",
   "execution_count": null,
   "metadata": {},
   "outputs": [],
   "source": []
  },
  {
   "cell_type": "code",
   "execution_count": null,
   "metadata": {},
   "outputs": [],
   "source": []
  }
 ],
 "metadata": {
  "kernelspec": {
   "display_name": "Python 3",
   "language": "python",
   "name": "python3"
  },
  "language_info": {
   "codemirror_mode": {
    "name": "ipython",
    "version": 3
   },
   "file_extension": ".py",
   "mimetype": "text/x-python",
   "name": "python",
   "nbconvert_exporter": "python",
   "pygments_lexer": "ipython3",
   "version": "3.9.13"
  }
 },
 "nbformat": 4,
 "nbformat_minor": 2
}
