{
 "cells": [
  {
   "cell_type": "markdown",
   "metadata": {},
   "source": [
    "## 실버2 #1260\n",
    "\n",
    "https://www.acmicpc.net/problem/1260"
   ]
  },
  {
   "cell_type": "markdown",
   "metadata": {},
   "source": [
    "그래프를 DFS로 탐색한 결과와 BFS로 탐색한 결과를 출력하는 프로그램을 작성하시오. 단, 방문할 수 있는 정점이 여러 개인 경우에는 정점 번호가 작은 것을 먼저 방문하고, 더 이상 방문할 수 있는 점이 없는 경우 종료한다. 정점 번호는 1번부터 N번까지이다.\n",
    "\n",
    "예제 1 <br>\n",
    "4 5 1 <br>\n",
    "1 2 <br>\n",
    "1 3 <br>\n",
    "1 4 <br>\n",
    "2 4 <br>\n",
    "3 4 <br>\n"
   ]
  },
  {
   "cell_type": "markdown",
   "metadata": {},
   "source": [
    "### # 참고 \n",
    "https://ji-gwang.tistory.com/291 <br>\n",
    "\n",
    "- DFS : 재귀 / BFS : queue <br>\n",
    "- 구현 방법 <br>\n",
    "  1. 입력 받은 노드의 개수만큼 이차원 리스트(인덱스 : 각 노드 / 인덱스 값 : 노드 연결 여부)를 False로 초기화 연결되어 있는 경우 True로 변경 <br>\n",
    "  2. 정점만 입력 받아서 정점만 찾아가는 방식"
   ]
  },
  {
   "cell_type": "markdown",
   "metadata": {},
   "source": [
    " ** True, False 구현"
   ]
  },
  {
   "cell_type": "code",
   "execution_count": 1,
   "metadata": {},
   "outputs": [],
   "source": [
    "input_value = '4 5 1'\n",
    "N, M, V = map(int, input_value.split())"
   ]
  },
  {
   "cell_type": "code",
   "execution_count": 2,
   "metadata": {},
   "outputs": [
    {
     "data": {
      "text/plain": [
       "[[False, False, False, False, False],\n",
       " [False, False, False, False, False],\n",
       " [False, False, False, False, False],\n",
       " [False, False, False, False, False],\n",
       " [False, False, False, False, False]]"
      ]
     },
     "execution_count": 2,
     "metadata": {},
     "output_type": "execute_result"
    }
   ],
   "source": [
    "# 노드 개수보다 하나 더 많은 리스트 생성 (=> 노드가 1부터 시작되기 때문?)\n",
    "# graph = []\n",
    "# for _ in range(N+1):\n",
    "#     graph.append([False]*(N+1))\n",
    "\n",
    "# 같은 의미의 숏 코딩\n",
    "graph = [[False]*(N+1) for _ in range(N+1)]\n",
    "\n",
    "graph"
   ]
  },
  {
   "cell_type": "code",
   "execution_count": 3,
   "metadata": {},
   "outputs": [],
   "source": [
    "for _ in range(M):\n",
    "    a, b = map(int, input().split())\n",
    "    graph[a][b] = True\n",
    "    graph[b][a]"
   ]
  },
  {
   "cell_type": "code",
   "execution_count": 5,
   "metadata": {},
   "outputs": [
    {
     "name": "stdout",
     "output_type": "stream",
     "text": [
      "1 2 4 3 "
     ]
    }
   ],
   "source": [
    "visited = [False] * (N+1)\n",
    "def dfs(v):\n",
    "    visited[v] = True       # 해당 v 값으로 초기화\n",
    "    print(v, end=\" \")\n",
    "    for i in range(1, N+1):\n",
    "        if not visited[i] and graph[v][i]:\n",
    "            dfs(i)\n",
    "\n",
    "dfs(V)"
   ]
  },
  {
   "cell_type": "code",
   "execution_count": 29,
   "metadata": {},
   "outputs": [
    {
     "name": "stdout",
     "output_type": "stream",
     "text": [
      "1 2 3 4 [False, True, True, True, True]\n"
     ]
    }
   ],
   "source": [
    "from collections import deque\n",
    "\n",
    "# bfs 구현\n",
    "visited = [False] * (N+1)\n",
    "def bfs(v):\n",
    "    q = deque([v])          # 시작 노드로 q 초기화\n",
    "    visited[v] = True       # 시작 노드 방문 처리\n",
    "    while q:                # q가 빈 상태가 될 때까지 반복\n",
    "        v = q.popleft()     # 큐에 있는 첫번째값 리턴\n",
    "        print(v, end=' ')   # 해당 값 출력\n",
    "        for i in range(1, N+1):     # 1부터 N까지 반복\n",
    "            if not visited[i] and graph[v][i]:      # 만약 해당 i값을 방문하지 않았고 v와 연결이 되어 있는 경우\n",
    "                q.append(i)\n",
    "                visited[i] = True\n",
    "\n",
    "    print(visited)\n",
    "\n",
    "bfs(V)"
   ]
  },
  {
   "cell_type": "markdown",
   "metadata": {},
   "source": [
    "## #연습"
   ]
  },
  {
   "cell_type": "code",
   "execution_count": 14,
   "metadata": {},
   "outputs": [],
   "source": [
    "from collections import deque"
   ]
  },
  {
   "cell_type": "code",
   "execution_count": 15,
   "metadata": {},
   "outputs": [],
   "source": [
    "input_value = \"4 5 1\"\n",
    "N, M, V = map(int, input_value.split())\n",
    "\n",
    "graph = [[False]*(N+1) for _ in range(N+1)]\n",
    "\n",
    "for _ in range(M):\n",
    "    a, b = map(int, input().split())\n",
    "    graph[a][b] = True\n",
    "    graph[b][a] = True"
   ]
  },
  {
   "cell_type": "code",
   "execution_count": 9,
   "metadata": {},
   "outputs": [
    {
     "name": "stdout",
     "output_type": "stream",
     "text": [
      "1 2 3 4 "
     ]
    }
   ],
   "source": [
    "visited = [False]*(N+1)\n",
    "\n",
    "def bfs(v):\n",
    "    visited[v] = True\n",
    "    q = deque([v])\n",
    "\n",
    "    while q:\n",
    "        v = q.popleft()\n",
    "        print(v, end=' ')\n",
    "        for i in range(1, N+1):\n",
    "            if not visited[i] and graph[v][i]:\n",
    "                q.append(i)\n",
    "                visited[i] = True\n",
    "\n",
    "bfs(V)"
   ]
  },
  {
   "cell_type": "code",
   "execution_count": 17,
   "metadata": {},
   "outputs": [
    {
     "name": "stdout",
     "output_type": "stream",
     "text": [
      "1 2 4 3 "
     ]
    }
   ],
   "source": [
    "visited = [False]*(N+1)\n",
    "\n",
    "def dfs(v):\n",
    "    visited[v] = True\n",
    "    print(v, end = ' ')\n",
    "    for i in range(1, N+1):\n",
    "        if not visited[i] and graph[v][i]:\n",
    "            bfs(i)\n",
    "\n",
    "dfs(V)"
   ]
  },
  {
   "cell_type": "markdown",
   "metadata": {},
   "source": [
    "## #연습"
   ]
  },
  {
   "cell_type": "code",
   "execution_count": null,
   "metadata": {},
   "outputs": [],
   "source": []
  },
  {
   "cell_type": "code",
   "execution_count": null,
   "metadata": {},
   "outputs": [],
   "source": []
  }
 ],
 "metadata": {
  "kernelspec": {
   "display_name": "Python 3",
   "language": "python",
   "name": "python3"
  },
  "language_info": {
   "codemirror_mode": {
    "name": "ipython",
    "version": 3
   },
   "file_extension": ".py",
   "mimetype": "text/x-python",
   "name": "python",
   "nbconvert_exporter": "python",
   "pygments_lexer": "ipython3",
   "version": "3.9.13"
  }
 },
 "nbformat": 4,
 "nbformat_minor": 2
}
